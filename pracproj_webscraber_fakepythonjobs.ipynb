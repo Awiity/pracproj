{
  "nbformat": 4,
  "nbformat_minor": 0,
  "metadata": {
    "colab": {
      "provenance": [],
      "authorship_tag": "ABX9TyNoc7jHgT0YijwVo2tsOWKG",
      "include_colab_link": true
    },
    "kernelspec": {
      "name": "python3",
      "display_name": "Python 3"
    },
    "language_info": {
      "name": "python"
    }
  },
  "cells": [
    {
      "cell_type": "markdown",
      "metadata": {
        "id": "view-in-github",
        "colab_type": "text"
      },
      "source": [
        "<a href=\"https://colab.research.google.com/github/Awiity/pracproj_filesorter/blob/main/pracproj_webscraber_fakepythonjobs.ipynb\" target=\"_parent\"><img src=\"https://colab.research.google.com/assets/colab-badge.svg\" alt=\"Open In Colab\"/></a>"
      ]
    },
    {
      "cell_type": "markdown",
      "source": [
        "# **Very basic implementation of Web Scraper in python using BeautifulSoup4 and requests libraries. For Educational purposes.**\n",
        "\n",
        "Taking HTML file via html-request using requests library and throwing it into the parser.\n",
        "\n",
        "SRC: https://realpython.com/beautiful-soup-web-scraper-python/"
      ],
      "metadata": {
        "id": "-9CUSU_WFxa7"
      }
    },
    {
      "cell_type": "code",
      "execution_count": 3,
      "metadata": {
        "colab": {
          "base_uri": "https://localhost:8080/",
          "height": 430
        },
        "id": "BD5j1XN8FXQY",
        "outputId": "a7902a34-83b4-4d20-acc8-ddab55b7a0d9"
      },
      "outputs": [
        {
          "output_type": "display_data",
          "data": {
            "text/plain": [
              "<Figure size 640x480 with 1 Axes>"
            ],
            "image/png": "[encoded data removed]"
          },
          "metadata": {}
        }
      ],
      "source": [
        "import requests\n",
        "from bs4 import BeautifulSoup\n",
        "import pandas as pd\n",
        "import matplotlib.pyplot as plt\n",
        "\n",
        "\n",
        "\n",
        "URL = \"https://realpython.github.io/fake-jobs/\"\n",
        "page = requests.get(URL)\n",
        "\n",
        "soup = BeautifulSoup(page.content, \"html.parser\")\n",
        "results = soup.find(id=\"ResultsContainer\")\n",
        "job_elements = results.find_all(\"div\", class_=\"card-content\")\n",
        "job_locations = []\n",
        "job_companies = []\n",
        "job_titles = []\n",
        "job_state = []\n",
        "\n",
        "for job in job_elements:\n",
        "    job_location = job.find(\"p\", class_=\"location\").text.strip()\n",
        "    job_title = job.find(\"h2\", class_=\"title is-5\").text.strip()\n",
        "    job_company = job.find(\"h3\", class_=\"subtitle is-6 company\").text.strip()\n",
        "    job_locations.append(job_location)\n",
        "    job_companies.append(job_company)\n",
        "    job_titles.append(job_title)\n",
        "    job_state.append(job_location[-2:])\n",
        "\n",
        "dictr = {\n",
        "    \"job_location\": job_locations,\n",
        "    \"job_companies\": job_companies,\n",
        "    \"job_titles\": job_titles,\n",
        "    \"job_state\": job_state\n",
        "}\n",
        "df = pd.DataFrame(dictr)\n",
        "df_vc = df.value_counts(\"job_state\")\n",
        "plt.bar(list(df_vc.index), df_vc)\n",
        "plt.show()\n",
        "\n"
      ]
    },
    {
      "cell_type": "markdown",
      "source": [
        "# Filtering only Python related titles"
      ],
      "metadata": {
        "id": "krPnHDlfFvfF"
      }
    },
    {
      "cell_type": "code",
      "source": [
        "python_jobs = results.find_all(\"h2\", string=lambda text: \"python\" in text.lower())\n",
        "\n",
        "python_job_elements = [h2child.parent.parent.parent for h2child in python_jobs]\n",
        "\n",
        "print(python_job_elements[0], \"\\n\")"
      ],
      "metadata": {
        "colab": {
          "base_uri": "https://localhost:8080/"
        },
        "id": "-Pc6gj1VFhEL",
        "outputId": "d3e78b8e-be7c-41b2-e197-cf378578fa79"
      },
      "execution_count": 7,
      "outputs": [
        {
          "output_type": "stream",
          "name": "stdout",
          "text": [
            "<div class=\"card-content\">\n",
            "<div class=\"media\">\n",
            "<div class=\"media-left\">\n",
            "<figure class=\"image is-48x48\">\n",
            "<img alt=\"Real Python Logo\" src=\"https://files.realpython.com/media/real-python-logo-thumbnail.7f0db70c2ed2.jpg?__no_cf_polish=1\"/>\n",
            "</figure>\n",
            "</div>\n",
            "<div class=\"media-content\">\n",
            "<h2 class=\"title is-5\">Senior Python Developer</h2>\n",
            "<h3 class=\"subtitle is-6 company\">Payne, Roberts and Davis</h3>\n",
            "</div>\n",
            "</div>\n",
            "<div class=\"content\">\n",
            "<p class=\"location\">\n",
            "        Stewartbury, AA\n",
            "      </p>\n",
            "<p class=\"is-small has-text-grey\">\n",
            "<time datetime=\"2021-04-08\">2021-04-08</time>\n",
            "</p>\n",
            "</div>\n",
            "<footer class=\"card-footer\">\n",
            "<a class=\"card-footer-item\" href=\"https://www.realpython.com\" target=\"_blank\">Learn</a>\n",
            "<a class=\"card-footer-item\" href=\"https://realpython.github.io/fake-jobs/jobs/senior-python-developer-0.html\" target=\"_blank\">Apply</a>\n",
            "</footer>\n",
            "</div> \n",
            "\n"
          ]
        }
      ]
    },
    {
      "cell_type": "code",
      "source": [
        "job_locations = []\n",
        "job_states = []\n",
        "job_titles = []\n",
        "for element in python_job_elements:\n",
        "  job_locations.append(element.find(\"p\", class_=\"location\").text.strip()) # both city and state\n",
        "  job_states.append((element.find(\"p\", class_=\"location\").text.strip())[-2:]) # [-2:] returns state of location\n",
        "  job_titles.append(element.find(\"h2\", class_=\"title is-5\").text.strip())\n",
        "#print(job_locations, \"\\n\", job_states, \"\\n\", job_titles)\n",
        "dictr = {\n",
        "    \"job_location\": job_locations,\n",
        "    \"job_state\": job_states,\n",
        "    \"job_title\": job_titles\n",
        "}\n",
        "df = pd.DataFrame(dictr)\n",
        "df_vc = df.value_counts(\"job_state\")\n",
        "plt.bar(list(df_vc.index), df_vc)\n",
        "plt.title(\"Python related jobs states\")\n",
        "plt.xlabel(\"State\")\n",
        "plt.ylabel(\"Count\")\n",
        "plt.show()"
      ],
      "metadata": {
        "colab": {
          "base_uri": "https://localhost:8080/",
          "height": 472
        },
        "id": "aoqD6yJgHmbD",
        "outputId": "c0a1247b-20fb-4848-a677-b3be02beb17f"
      },
      "execution_count": 12,
      "outputs": [
        {
          "output_type": "display_data",
          "data": {
            "text/plain": [
              "<Figure size 640x480 with 1 Axes>"
            ],
            "image/png": "[encoded data removed]"
          },
          "metadata": {}
        }
      ]
    }
  ]
}